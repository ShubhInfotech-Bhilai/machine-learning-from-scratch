{
 "cells": [
  {
   "cell_type": "markdown",
   "metadata": {
    "collapsed": true
   },
   "source": [
    "# 5.1.4 Linear Regression\n",
    "\n",
    "This notebook implements linear regression."
   ]
  },
  {
   "cell_type": "code",
   "execution_count": 1,
   "metadata": {},
   "outputs": [],
   "source": [
    "import numpy as np\n",
    "import matplotlib.pyplot as plt\n",
    "from mpl_toolkits.mplot3d import Axes3D\n",
    "import seaborn as sns"
   ]
  },
  {
   "cell_type": "markdown",
   "metadata": {},
   "source": [
    "### Predict"
   ]
  },
  {
   "cell_type": "code",
   "execution_count": 2,
   "metadata": {},
   "outputs": [],
   "source": [
    "def predict(w, b, x):\n",
    "    \"\"\" A method that runs our linear model\n",
    "    w : np.ndarray (1, num_dimensions)\n",
    "        A weight matrix which will be fit to the data\n",
    "    b : float (1, 1)\n",
    "        The bias unit for our linear model\n",
    "    x : np.ndarray (num_dimensions, num_examples)\n",
    "        The m input examples for which we would like to predict a y value\n",
    "    \"\"\"\n",
    "    y_pred = w @ x + b\n",
    "    return y_pred"
   ]
  },
  {
   "cell_type": "markdown",
   "metadata": {},
   "source": [
    "### Cost Function"
   ]
  },
  {
   "cell_type": "code",
   "execution_count": 3,
   "metadata": {},
   "outputs": [],
   "source": [
    "def cost(y, y_pred):\n",
    "    \"\"\"\n",
    "    y : np.ndarray (num_examples, 1)\n",
    "        The ground truth results\n",
    "    y_pred : np.ndarray (num_examples, 1)\n",
    "    \"\"\"\n",
    "    m, n = y.shape\n",
    "    squared_error = np.sum((y_pred - y) ** 2)\n",
    "    mean_squared_error = float(squared_error / n)\n",
    "    return mean_squared_error"
   ]
  },
  {
   "cell_type": "markdown",
   "metadata": {},
   "source": [
    "### Initialize Parameters"
   ]
  },
  {
   "cell_type": "code",
   "execution_count": 4,
   "metadata": {},
   "outputs": [],
   "source": [
    "def initialize_parameters(n):\n",
    "    return np.zeros((1, n)), 0.0"
   ]
  },
  {
   "cell_type": "markdown",
   "metadata": {},
   "source": [
    "### Solve"
   ]
  },
  {
   "cell_type": "code",
   "execution_count": 5,
   "metadata": {},
   "outputs": [],
   "source": [
    "def solve(x, y):\n",
    "    m, n = x.shape\n",
    "    x = (np.ones((1, x.shape[1])), x)\n",
    "    x = np.concatenate(x, axis=0)\n",
    "    w = np.linalg.inv((x @ x.T)) @ (x @ y.T)\n",
    "    w, b = w[1:,].reshape(1, m), float(w[0,]) \n",
    "    return w, b"
   ]
  },
  {
   "cell_type": "markdown",
   "metadata": {},
   "source": [
    "### Gradient"
   ]
  },
  {
   "cell_type": "code",
   "execution_count": 6,
   "metadata": {},
   "outputs": [],
   "source": [
    "def gradient(x, y, y_pred):\n",
    "    m, n = x.shape\n",
    "    dw = np.sum((y_pred - y) * x, axis=1) / n\n",
    "    db = np.sum((y_pred - y)) / n\n",
    "    return dw, db"
   ]
  },
  {
   "cell_type": "markdown",
   "metadata": {},
   "source": [
    "### Gradient Descent"
   ]
  },
  {
   "cell_type": "code",
   "execution_count": null,
   "metadata": {},
   "outputs": [],
   "source": [
    "def gradient_descent(x, y, w, b, epochs=1000, learning_rate=0.0025):\n",
    "    m, n = x.shape\n",
    "    y_preds = []\n",
    "    for i in range(epochs):\n",
    "        y_pred = predict(w, b, x)\n",
    "        \n",
    "        if not i % (epochs // 10):\n",
    "            print('epoch #' + str(i), cost(y, y_pred))\n",
    "        \n",
    "        dw, db = gradient(x, y, y_pred)\n",
    "        \n",
    "        w -= learning_rate * dw\n",
    "        b -= learning_rate * db\n",
    "        y_preds.append(y_pred)\n",
    "        \n",
    "    return w, b, y_preds"
   ]
  },
  {
   "cell_type": "markdown",
   "metadata": {},
   "source": [
    "### Plot"
   ]
  },
  {
   "cell_type": "code",
   "execution_count": 8,
   "metadata": {},
   "outputs": [],
   "source": [
    "def plot(x, y, y_pred):\n",
    "    m, n = x.shape\n",
    "    if m == 1:\n",
    "        fig = plt.figure()\n",
    "        plt.scatter(x, y)\n",
    "        plt.plot(x[0], y_pred[0], 'r-')\n",
    "        plt.xlabel('x')\n",
    "        plt.ylabel('y')\n",
    "        plt.title('Linear Regression')\n",
    "        plt.show()\n",
    "        fig.savefig('line.png', dpi=150)\n",
    "    \n",
    "\n",
    "def plot3D(x, y, w, b):\n",
    "    m, n = x.shape\n",
    "    expand = 2\n",
    "    x1_min, x1_max = int(np.min(x[0]) * expand), int(np.max(x[0]) * expand)\n",
    "    x2_min, x2_max = int(np.min(x[1]) * expand), int(np.max(x[1]) * expand)\n",
    "    x1, x2 = np.meshgrid(range(x1_min, x1_max, (x1_max - x1_min) // 3), range(x2_min, x2_max, (x2_max - x2_min) // 3))\n",
    "    y_pred = np.zeros(x1.shape)\n",
    "    for m in range(x1.shape[0]):\n",
    "        x1i = x1[m,:].reshape(1, x1.shape[1])\n",
    "        x2i = x2[m,:].reshape(1, x1.shape[1])\n",
    "        \n",
    "        xi = np.concatenate((x1i, x2i), axis=0)\n",
    "        y_predi = predict(w, b, xi)\n",
    "        y_pred[m,:] = y_predi\n",
    "\n",
    "    fig = plt.figure()\n",
    "    ax = fig.add_subplot(111, projection='3d')\n",
    "    ax.scatter(x[0], x[1], y)\n",
    "    ax.plot_surface(x1, x2, y_pred, alpha=0.5)\n",
    "    plt.show()"
   ]
  },
  {
   "cell_type": "code",
   "execution_count": 9,
   "metadata": {},
   "outputs": [],
   "source": [
    "from matplotlib.animation import FuncAnimation\n",
    "\n",
    "\n",
    "\n",
    "\n",
    "def animate(x, y, y_preds):\n",
    "    \n",
    "    fig, ax = plt.subplots()\n",
    "#     fig.set_tight_layout(True)\n",
    "    # Plot a scatter that persists (isn't redrawn) and the initial line.\n",
    "    sns.scatterplot(x[0], y[0])\n",
    "    plt.xlabel('x')\n",
    "    plt.ylabel('y')\n",
    "    plt.title('Linear Regression')\n",
    "    line, = ax.plot(x[0], y_preds[0][0], 'r-')\n",
    "    \n",
    "    \n",
    "    def update(pred):\n",
    "        # Update the line and the axes (with a new xlabel). Return a tuple of\n",
    "        # \"artists\" that have to be redrawn for this frame.\n",
    "        line.set_ydata(pred[0])\n",
    "        return line, ax\n",
    "\n",
    "    anim = FuncAnimation(fig, update, frames=y_preds, interval=50)\n",
    "    anim.save('line.gif', dpi=150, writer='imagemagick')\n",
    "    plt.show()\n",
    "\n",
    "\n"
   ]
  },
  {
   "cell_type": "markdown",
   "metadata": {},
   "source": [
    "### Model"
   ]
  },
  {
   "cell_type": "code",
   "execution_count": 10,
   "metadata": {},
   "outputs": [],
   "source": [
    "def model(x, y, epochs=50000, learning_rate=0.0025, show=True, normal=False, save=False):\n",
    "    # retrieve the shape of x\n",
    "    m, n = x.shape\n",
    "    \n",
    "    if not normal:\n",
    "        # initialize w and b to vectors with the appropiate dimensions (zero-valued)\n",
    "        w, b = initialize_parameters(m)\n",
    "\n",
    "        # run gradient descent to optomize w and b for x and y\n",
    "        w, b, y_preds = gradient_descent(x, y, w, b, epochs=epochs, learning_rate=learning_rate)\n",
    "        \n",
    "    else:\n",
    "        w, b = solve(x, y)\n",
    "        \n",
    "        \n",
    "    c = cost(y, predict(w, b, x))\n",
    "    \n",
    "    print('w:', w)\n",
    "    print('b:', b)\n",
    "    print('cost:', c)\n",
    "    \n",
    "    # if the user wishes to save the animation\n",
    "    if save and m == 1:\n",
    "        animate(x, y, y_preds[:1000:8])\n",
    "    \n",
    "    # if show is True and x is 1 dimensional\n",
    "    if show and m == 1:\n",
    "        # plot a line with the scatter plot\n",
    "        y_pred = predict(w, b, x)\n",
    "        plot(x, y, y_pred)\n",
    "    \n",
    "    # if show is true and x is 2 dimensional\n",
    "    if show and m == 2:\n",
    "        plot3D(x, y, w, b)\n",
    "        \n",
    "    \n",
    "        \n",
    "    "
   ]
  },
  {
   "cell_type": "markdown",
   "metadata": {},
   "source": [
    "### Test"
   ]
  },
  {
   "cell_type": "code",
   "execution_count": 11,
   "metadata": {
    "scrolled": true
   },
   "outputs": [
    {
     "name": "stdout",
     "output_type": "stream",
     "text": [
      "w: [[0.70099078]]\n",
      "b: 0.053356960039587606\n",
      "cost: 0.2984711780793771\n"
     ]
    },
    {
     "data": {
      "image/png": "[encoded data removed]",
      "text/plain": [
       "<Figure size 432x288 with 1 Axes>"
      ]
     },
     "metadata": {
      "needs_background": "light"
     },
     "output_type": "display_data"
    },
    {
     "name": "stdout",
     "output_type": "stream",
     "text": [
      "epoch #0 1.1114993202372614\n",
      "epoch #100 0.6536826415617282\n",
      "epoch #200 0.4542459748404145\n",
      "epoch #300 0.36713673523805695\n",
      "epoch #400 0.3289505519369137\n",
      "epoch #500 0.31212696875864304\n",
      "epoch #600 0.30466460992602273\n",
      "epoch #700 0.3013243803595238\n",
      "epoch #800 0.2998113158562274\n",
      "epoch #900 0.29911535532412503\n",
      "w: [[0.6891764]]\n",
      "b: 0.04304795038785269\n",
      "cost: 0.2987890841080433\n"
     ]
    },
    {
     "data": {
      "image/png": "[encoded data removed]",
      "text/plain": [
       "<Figure size 432x288 with 1 Axes>"
      ]
     },
     "metadata": {
      "needs_background": "light"
     },
     "output_type": "display_data"
    },
    {
     "name": "stdout",
     "output_type": "stream",
     "text": [
      "done\n"
     ]
    }
   ],
   "source": [
    "def generate_data(num_samples=100):\n",
    "\n",
    "    # The desired mean values of the sample.\n",
    "    mu = np.array([0.0, 5.0, 0.0])\n",
    "\n",
    "    # The desired covariance matrix.\n",
    "    r = np.array([\n",
    "            [  2.00, 1.25, 1.30],\n",
    "            [  1.25, 1.25, 1.25],\n",
    "            [  1.30, 1.25, 1.30]\n",
    "        ])\n",
    "\n",
    "    # Generate the random samples.\n",
    "    y = np.random.multivariate_normal(mu, r, size=num_samples)\n",
    "\n",
    "    x = y[:, 0:1].reshape(1, num_samples)\n",
    "    y = y[:, 2].reshape(1, num_samples)\n",
    "    \n",
    "    return x, y\n",
    "\n",
    "x, y = generate_data(num_samples=100)\n",
    "model(x, y, normal=True)\n",
    "model(x, y, normal=False, epochs=1000, save=True, show=False)\n",
    "print('done')"
   ]
  },
  {
   "cell_type": "code",
   "execution_count": null,
   "metadata": {},
   "outputs": [],
   "source": []
  }
 ],
 "metadata": {
  "kernelspec": {
   "display_name": "Python 3",
   "language": "python",
   "name": "python3"
  },
  "language_info": {
   "codemirror_mode": {
    "name": "ipython",
    "version": 3
   },
   "file_extension": ".py",
   "mimetype": "text/x-python",
   "name": "python",
   "nbconvert_exporter": "python",
   "pygments_lexer": "ipython3",
   "version": "3.7.1"
  }
 },
 "nbformat": 4,
 "nbformat_minor": 1
}
