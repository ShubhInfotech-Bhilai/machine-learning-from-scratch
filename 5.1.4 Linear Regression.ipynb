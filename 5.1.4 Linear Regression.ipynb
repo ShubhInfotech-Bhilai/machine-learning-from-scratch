{
 "cells": [
  {
   "cell_type": "markdown",
   "metadata": {
    "collapsed": true
   },
   "source": [
    "# 5.1.4 Linear Regression\n",
    "\n",
    "This notebook describes and implements linear regression."
   ]
  },
  {
   "cell_type": "code",
   "execution_count": null,
   "metadata": {},
   "outputs": [],
   "source": [
    "import numpy as np"
   ]
  },
  {
   "cell_type": "markdown",
   "metadata": {},
   "source": [
    "### Linear Model"
   ]
  },
  {
   "cell_type": "code",
   "execution_count": null,
   "metadata": {},
   "outputs": [],
   "source": [
    "def linear_model(w, b, x):\n",
    "    \"\"\" A method that runs our linear model\n",
    "    w : np.ndarray (m x m)\n",
    "        A weight matrix which will be fit to the data\n",
    "    b : float (1 x 1)\n",
    "        The bias unit for our linear model\n",
    "    x : np.ndarray (n x 1)\n",
    "        An input example for which we would like to predict a y value\n",
    "    \"\"\"\n",
    "    return w @ x + b"
   ]
  },
  {
   "cell_type": "markdown",
   "metadata": {},
   "source": [
    "### Cost Function"
   ]
  },
  {
   "cell_type": "code",
   "execution_count": null,
   "metadata": {},
   "outputs": [],
   "source": [
    "def MSE(y, y_pred):\n",
    "    \"\"\"\n",
    "    y : np.ndarray (m, 1)\n",
    "    \"\"\"\n",
    "    m = y.shape\n",
    "    error = np.sum(y - y_pred)\n",
    "    squared_error = error ** 2\n",
    "    mean_squared_error = float(squared_error / m)\n",
    "    return mean_squared_error"
   ]
  },
  {
   "cell_type": "markdown",
   "metadata": {},
   "source": [
    "### Gradient"
   ]
  },
  {
   "cell_type": "code",
   "execution_count": null,
   "metadata": {},
   "outputs": [],
   "source": [
    "def gradient(y, x, w, b):\n",
    "    \n",
    "    \n",
    "    "
   ]
  },
  {
   "cell_type": "markdown",
   "metadata": {},
   "source": [
    "### Solve"
   ]
  },
  {
   "cell_type": "code",
   "execution_count": null,
   "metadata": {},
   "outputs": [],
   "source": [
    "def solve"
   ]
  }
 ],
 "metadata": {
  "kernelspec": {
   "display_name": "Python 3",
   "language": "python",
   "name": "python3"
  },
  "language_info": {
   "codemirror_mode": {
    "name": "ipython",
    "version": 3
   },
   "file_extension": ".py",
   "mimetype": "text/x-python",
   "name": "python",
   "nbconvert_exporter": "python",
   "pygments_lexer": "ipython3",
   "version": "3.6.7"
  }
 },
 "nbformat": 4,
 "nbformat_minor": 1
}
