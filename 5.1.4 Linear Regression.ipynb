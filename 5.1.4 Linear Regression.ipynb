{
 "cells": [
  {
   "cell_type": "markdown",
   "metadata": {
    "collapsed": true
   },
   "source": [
    "# 5.1.4 Linear Regression\n",
    "\n",
    "This notebook describes and implements linear regression."
   ]
  },
  {
   "cell_type": "code",
   "execution_count": 1,
   "metadata": {},
   "outputs": [],
   "source": [
    "import numpy as np\n",
    "import matplotlib.pyplot as plt\n",
    "from mpl_toolkits.mplot3d import Axes3D"
   ]
  },
  {
   "cell_type": "markdown",
   "metadata": {},
   "source": [
    "### Predict"
   ]
  },
  {
   "cell_type": "code",
   "execution_count": 2,
   "metadata": {},
   "outputs": [],
   "source": [
    "def predict(w, b, x):\n",
    "    \"\"\" A method that runs our linear model\n",
    "    w : np.ndarray (n, 1)\n",
    "        A weight matrix which will be fit to the data\n",
    "    b : float (1, 1)\n",
    "        The bias unit for our linear model\n",
    "    x : np.ndarray (m, n)\n",
    "        An input example for which we would like to predict a y value\n",
    "    \"\"\"\n",
    "    y_pred = w @ x + b\n",
    "    return y_pred"
   ]
  },
  {
   "cell_type": "markdown",
   "metadata": {},
   "source": [
    "### Cost Function"
   ]
  },
  {
   "cell_type": "code",
   "execution_count": 3,
   "metadata": {},
   "outputs": [],
   "source": [
    "def cost(y, y_pred):\n",
    "    \"\"\"\n",
    "    y : np.ndarray (m, 1)\n",
    "        The ground truth results\n",
    "    y_pred : np.ndarray (m, 1)\n",
    "    \"\"\"\n",
    "    m, _ = y.shape\n",
    "    squared_error = np.sum((y_pred - y) ** 2)\n",
    "    mean_squared_error = float(squared_error / m)\n",
    "    return mean_squared_error"
   ]
  },
  {
   "cell_type": "markdown",
   "metadata": {},
   "source": [
    "### Initialize Parameters"
   ]
  },
  {
   "cell_type": "code",
   "execution_count": 4,
   "metadata": {},
   "outputs": [],
   "source": [
    "def initialize_parameters(n):\n",
    "    return np.zeros((1, n)), 0.0"
   ]
  },
  {
   "cell_type": "markdown",
   "metadata": {},
   "source": [
    "### Gradient"
   ]
  },
  {
   "cell_type": "code",
   "execution_count": 5,
   "metadata": {},
   "outputs": [],
   "source": [
    "def gradient(x, y, y_pred):\n",
    "    m, n = x.shape\n",
    "    dw = np.sum((y_pred - y) * x) / n\n",
    "    db = np.sum((y_pred - y)) / n\n",
    "    return dw, db"
   ]
  },
  {
   "cell_type": "markdown",
   "metadata": {},
   "source": [
    "### Gradient Descent"
   ]
  },
  {
   "cell_type": "code",
   "execution_count": 6,
   "metadata": {},
   "outputs": [],
   "source": [
    "def gradient_descent(x, y, w, b, epochs=1000, learning_rate=0.0025):\n",
    "    m, n = x.shape\n",
    "    \n",
    "    for i in range(epochs):\n",
    "        y_pred = predict(w, b, x)\n",
    "        \n",
    "        if not i % 1000:\n",
    "            print('epoch #' + str(i), cost(y, y_pred))\n",
    "        \n",
    "        dw, db = gradient(x, y, y_pred)\n",
    "        \n",
    "        w -= learning_rate * dw\n",
    "        b -= learning_rate * db\n",
    "        \n",
    "    return w, b"
   ]
  },
  {
   "cell_type": "markdown",
   "metadata": {},
   "source": [
    "### Plot"
   ]
  },
  {
   "cell_type": "code",
   "execution_count": 7,
   "metadata": {},
   "outputs": [],
   "source": [
    "def plot(x, y, y_pred):\n",
    "    m, n = x.shape\n",
    "    if m == 1:\n",
    "        plt.scatter(x, y)\n",
    "        plt.plot(x[0], y_pred[0])\n",
    "        plt.show()\n",
    "    \n",
    "\n",
    "def plot3D(x, y, w, b):\n",
    "    m, n = x.shape\n",
    "    x1_min, x1_max = int(min(x[0])) - 5, int(max(x[0])) + 5\n",
    "    x2_min, x2_max = int(min(x[1])) - 5, int(max(x[1])) + 5\n",
    "    x1, x2 = np.meshgrid(range(x1_min, x1_max), range(x2_min, x2_max))\n",
    "    y_pred = np.zeros(x1.shape)\n",
    "    for m in range(x1.shape[0]):\n",
    "        x1i = x1[m,:].reshape(1, x1.shape[1])\n",
    "        x2i = x2[m,:].reshape(1, x1.shape[1])\n",
    "        \n",
    "        xi = np.concatenate((x1i, x2i), axis=0)\n",
    "        y_predi = predict(w, b, xi)\n",
    "        y_pred[m,:] = y_predi\n",
    "\n",
    "    fig = plt.figure()\n",
    "    ax = fig.add_subplot(111, projection='3d')\n",
    "    ax.scatter(x[0], x[1], y)\n",
    "    ax.plot_surface(x1, x2, y_pred, alpha=0.75)\n",
    "    plt.show()"
   ]
  },
  {
   "cell_type": "markdown",
   "metadata": {},
   "source": [
    "### Model"
   ]
  },
  {
   "cell_type": "code",
   "execution_count": 8,
   "metadata": {},
   "outputs": [],
   "source": [
    "def model(x, y, epochs=10000, learning_rate=0.0025, show=True):\n",
    "    # retrieve the shape of x\n",
    "    m, n = x.shape\n",
    "    \n",
    "    # initialize w and b to vectors with the appropiate dimensions (zero-valued)\n",
    "    w, b = initialize_parameters(m)\n",
    "    \n",
    "    # run gradient descent to optomize w and b for x and y\n",
    "    w, b = gradient_descent(x, y, w, b, epochs=epochs, learning_rate=learning_rate)\n",
    "    \n",
    "    print('w:', w)\n",
    "    print('b:', b)\n",
    "    print('cost:', cost(y, predict(w, b, x)))\n",
    "    \n",
    "    # if show is True and x is 1 dimensional\n",
    "    if show and m == 1:\n",
    "        # plot a line with the scatter plot\n",
    "        y_pred = predict(w, b, x)\n",
    "        plot(x, y, y_pred)\n",
    "    \n",
    "    # if show is true and x is 2 dimensional\n",
    "    if show and m == 2:\n",
    "        plot3D(x, y, w, b)\n",
    "    "
   ]
  },
  {
   "cell_type": "markdown",
   "metadata": {},
   "source": [
    "### Test"
   ]
  },
  {
   "cell_type": "code",
   "execution_count": 10,
   "metadata": {
    "scrolled": true
   },
   "outputs": [
    {
     "name": "stdout",
     "output_type": "stream",
     "text": [
      "epoch #0 10.843907733496117\n",
      "epoch #1000 6.224837450285569\n",
      "epoch #2000 6.2230186665749665\n",
      "epoch #3000 6.223000632922631\n",
      "epoch #4000 6.2230004540989095\n",
      "epoch #5000 6.223000452325673\n",
      "epoch #6000 6.2230004523080895\n",
      "epoch #7000 6.2230004523079145\n",
      "epoch #8000 6.223000452307913\n",
      "epoch #9000 6.223000452307914\n",
      "w: [[-0.5375491 -0.5375491]]\n",
      "b: 0.10680069778104077\n",
      "cost: 6.223000452307913\n",
      "(12, 11) (12, 11)\n"
     ]
    },
    {
     "data": {
      "image/png": "[encoded data removed]",
      "text/plain": [
       "<Figure size 432x288 with 1 Axes>"
      ]
     },
     "metadata": {
      "needs_background": "light"
     },
     "output_type": "display_data"
    }
   ],
   "source": [
    "num_samples = 5\n",
    "\n",
    "# The desired mean values of the sample.\n",
    "mu = np.array([0.0, 0.0, 0.0])\n",
    "\n",
    "# The desired covariance matrix.\n",
    "r = np.array([\n",
    "        [  1.0, 0.0, 0.0],\n",
    "        [  0.0, 1.0, 0.0],\n",
    "        [  0.0, 0.0, 1.0]\n",
    "    ])\n",
    "\n",
    "# Generate the random samples.\n",
    "y = np.random.multivariate_normal(mu, r, size=num_samples)\n",
    "\n",
    "x = y[:, 0:2].reshape(2, num_samples)\n",
    "y = y[:, 2].reshape(1, num_samples)\n",
    "\n",
    "\n",
    "model(x, y)"
   ]
  },
  {
   "cell_type": "code",
   "execution_count": null,
   "metadata": {},
   "outputs": [],
   "source": []
  }
 ],
 "metadata": {
  "kernelspec": {
   "display_name": "Python 3",
   "language": "python",
   "name": "python3"
  },
  "language_info": {
   "codemirror_mode": {
    "name": "ipython",
    "version": 3
   },
   "file_extension": ".py",
   "mimetype": "text/x-python",
   "name": "python",
   "nbconvert_exporter": "python",
   "pygments_lexer": "ipython3",
   "version": "3.6.7"
  }
 },
 "nbformat": 4,
 "nbformat_minor": 1
}
